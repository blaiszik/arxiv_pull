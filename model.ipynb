{
 "cells": [
  {
   "cell_type": "code",
   "execution_count": 2,
   "metadata": {},
   "outputs": [],
   "source": [
    "import pandas as pd\n",
    "import numpy as np\n",
    "from gensim.corpora import Dictionary"
   ]
  },
  {
   "cell_type": "code",
   "execution_count": 3,
   "metadata": {},
   "outputs": [
    {
     "data": {
      "text/html": [
       "<div>\n",
       "<style>\n",
       "    .dataframe thead tr:only-child th {\n",
       "        text-align: right;\n",
       "    }\n",
       "\n",
       "    .dataframe thead th {\n",
       "        text-align: left;\n",
       "    }\n",
       "\n",
       "    .dataframe tbody tr th {\n",
       "        vertical-align: top;\n",
       "    }\n",
       "</style>\n",
       "<table border=\"1\" class=\"dataframe\">\n",
       "  <thead>\n",
       "    <tr style=\"text-align: right;\">\n",
       "      <th></th>\n",
       "      <th>data</th>\n",
       "      <th>label</th>\n",
       "      <th>ceramic</th>\n",
       "      <th>polymer</th>\n",
       "      <th>semiconductor</th>\n",
       "      <th>metal</th>\n",
       "      <th>organometallic</th>\n",
       "      <th>experiment</th>\n",
       "      <th>simulation</th>\n",
       "    </tr>\n",
       "  </thead>\n",
       "  <tbody>\n",
       "    <tr>\n",
       "      <th>0</th>\n",
       "      <td>[ZnO-based scintillation ceramics for applicat...</td>\n",
       "      <td>(ceramic, experiment, material)</td>\n",
       "      <td>1</td>\n",
       "      <td>0</td>\n",
       "      <td>0</td>\n",
       "      <td>0</td>\n",
       "      <td>0</td>\n",
       "      <td>1</td>\n",
       "      <td>0</td>\n",
       "    </tr>\n",
       "    <tr>\n",
       "      <th>1</th>\n",
       "      <td>[A three-dimensional lattice of the Josephson ...</td>\n",
       "      <td>(ceramic, simulation, material)</td>\n",
       "      <td>1</td>\n",
       "      <td>0</td>\n",
       "      <td>0</td>\n",
       "      <td>0</td>\n",
       "      <td>0</td>\n",
       "      <td>0</td>\n",
       "      <td>1</td>\n",
       "    </tr>\n",
       "    <tr>\n",
       "      <th>2</th>\n",
       "      <td>[Single polymer dynamics offers a powerful app...</td>\n",
       "      <td>(polymer, experiment, material)</td>\n",
       "      <td>0</td>\n",
       "      <td>1</td>\n",
       "      <td>0</td>\n",
       "      <td>0</td>\n",
       "      <td>0</td>\n",
       "      <td>1</td>\n",
       "      <td>0</td>\n",
       "    </tr>\n",
       "    <tr>\n",
       "      <th>3</th>\n",
       "      <td>[Polymer chains in colloid-polymer mixtures ca...</td>\n",
       "      <td>(polymer, simulation, material)</td>\n",
       "      <td>0</td>\n",
       "      <td>1</td>\n",
       "      <td>0</td>\n",
       "      <td>0</td>\n",
       "      <td>0</td>\n",
       "      <td>0</td>\n",
       "      <td>1</td>\n",
       "    </tr>\n",
       "    <tr>\n",
       "      <th>4</th>\n",
       "      <td>[The utilisation of semiconductor materials as...</td>\n",
       "      <td>(semiconductor, experiment, material)</td>\n",
       "      <td>0</td>\n",
       "      <td>0</td>\n",
       "      <td>1</td>\n",
       "      <td>0</td>\n",
       "      <td>0</td>\n",
       "      <td>1</td>\n",
       "      <td>0</td>\n",
       "    </tr>\n",
       "    <tr>\n",
       "      <th>5</th>\n",
       "      <td>[We propose a method to realize diluted magnet...</td>\n",
       "      <td>(semiconductor, simulation, material)</td>\n",
       "      <td>0</td>\n",
       "      <td>0</td>\n",
       "      <td>1</td>\n",
       "      <td>0</td>\n",
       "      <td>0</td>\n",
       "      <td>0</td>\n",
       "      <td>1</td>\n",
       "    </tr>\n",
       "    <tr>\n",
       "      <th>6</th>\n",
       "      <td>[Half-metallic ferromagnetism (HMFM) occurs ra...</td>\n",
       "      <td>(metal, experiment, material)</td>\n",
       "      <td>0</td>\n",
       "      <td>0</td>\n",
       "      <td>0</td>\n",
       "      <td>1</td>\n",
       "      <td>0</td>\n",
       "      <td>1</td>\n",
       "      <td>0</td>\n",
       "    </tr>\n",
       "    <tr>\n",
       "      <th>7</th>\n",
       "      <td>[The room temperature structure of aluminum, c...</td>\n",
       "      <td>(metal, simulation, material)</td>\n",
       "      <td>0</td>\n",
       "      <td>0</td>\n",
       "      <td>0</td>\n",
       "      <td>1</td>\n",
       "      <td>0</td>\n",
       "      <td>0</td>\n",
       "      <td>1</td>\n",
       "    </tr>\n",
       "    <tr>\n",
       "      <th>8</th>\n",
       "      <td>[We present a detailed analysis of the results...</td>\n",
       "      <td>(organometallic, experiment, material)</td>\n",
       "      <td>0</td>\n",
       "      <td>0</td>\n",
       "      <td>0</td>\n",
       "      <td>0</td>\n",
       "      <td>1</td>\n",
       "      <td>1</td>\n",
       "      <td>0</td>\n",
       "    </tr>\n",
       "    <tr>\n",
       "      <th>9</th>\n",
       "      <td>[The interaction of trimethyl methylcyclopenta...</td>\n",
       "      <td>(organometallic, simulation, material)</td>\n",
       "      <td>0</td>\n",
       "      <td>0</td>\n",
       "      <td>0</td>\n",
       "      <td>0</td>\n",
       "      <td>1</td>\n",
       "      <td>0</td>\n",
       "      <td>1</td>\n",
       "    </tr>\n",
       "  </tbody>\n",
       "</table>\n",
       "</div>"
      ],
      "text/plain": [
       "                                                data  \\\n",
       "0  [ZnO-based scintillation ceramics for applicat...   \n",
       "1  [A three-dimensional lattice of the Josephson ...   \n",
       "2  [Single polymer dynamics offers a powerful app...   \n",
       "3  [Polymer chains in colloid-polymer mixtures ca...   \n",
       "4  [The utilisation of semiconductor materials as...   \n",
       "5  [We propose a method to realize diluted magnet...   \n",
       "6  [Half-metallic ferromagnetism (HMFM) occurs ra...   \n",
       "7  [The room temperature structure of aluminum, c...   \n",
       "8  [We present a detailed analysis of the results...   \n",
       "9  [The interaction of trimethyl methylcyclopenta...   \n",
       "\n",
       "                                    label  ceramic  polymer  semiconductor  \\\n",
       "0         (ceramic, experiment, material)        1        0              0   \n",
       "1         (ceramic, simulation, material)        1        0              0   \n",
       "2         (polymer, experiment, material)        0        1              0   \n",
       "3         (polymer, simulation, material)        0        1              0   \n",
       "4   (semiconductor, experiment, material)        0        0              1   \n",
       "5   (semiconductor, simulation, material)        0        0              1   \n",
       "6           (metal, experiment, material)        0        0              0   \n",
       "7           (metal, simulation, material)        0        0              0   \n",
       "8  (organometallic, experiment, material)        0        0              0   \n",
       "9  (organometallic, simulation, material)        0        0              0   \n",
       "\n",
       "   metal  organometallic  experiment  simulation  \n",
       "0      0               0           1           0  \n",
       "1      0               0           0           1  \n",
       "2      0               0           1           0  \n",
       "3      0               0           0           1  \n",
       "4      0               0           1           0  \n",
       "5      0               0           0           1  \n",
       "6      1               0           1           0  \n",
       "7      1               0           0           1  \n",
       "8      0               1           1           0  \n",
       "9      0               1           0           1  "
      ]
     },
     "execution_count": 3,
     "metadata": {},
     "output_type": "execute_result"
    }
   ],
   "source": [
    "input_file = \"./data/arxiv_results-1000.pkl\"\n",
    "df = pd.read_pickle(input_file)\n",
    "df"
   ]
  },
  {
   "cell_type": "markdown",
   "metadata": {},
   "source": [
    "# Helper Functions"
   ]
  },
  {
   "cell_type": "code",
   "execution_count": 4,
   "metadata": {},
   "outputs": [],
   "source": [
    "# Creates a new row for each value in a list in col_name. Maintains other columns\n",
    "def explode_column(df, col_name):\n",
    "    s = df.apply(lambda x: pd.Series(x[str(col_name)]),axis=1).stack().reset_index(level=1, drop=True)\n",
    "    s.name = str(col_name)\n",
    "    df = df.drop(str(col_name), axis=1).join(s)\n",
    "    return df"
   ]
  },
  {
   "cell_type": "code",
   "execution_count": 5,
   "metadata": {},
   "outputs": [],
   "source": [
    "y_cols = [\"ceramic\",\"polymer\",\"semiconductor\",\"metal\",\"organometallic\",\"experiment\",\"simulation\"]\n",
    "x_cols = [\"data\"]"
   ]
  },
  {
   "cell_type": "code",
   "execution_count": 6,
   "metadata": {},
   "outputs": [],
   "source": [
    "# # Separate all rows into individual abstract --> label\n",
    "# dataset = []\n",
    "# for i in range(0, len(df)):\n",
    "#     for abstract in df.iloc[i]['data']:\n",
    "#         dataset.append({\"data\":abstract.lower(), \n",
    "#                         \"labels\":df.iloc[i][y_cols].values})\n",
    "    "
   ]
  },
  {
   "cell_type": "markdown",
   "metadata": {},
   "source": [
    "# Reshape the Dataframe"
   ]
  },
  {
   "cell_type": "code",
   "execution_count": 7,
   "metadata": {},
   "outputs": [
    {
     "data": {
      "text/plain": [
       "3770"
      ]
     },
     "execution_count": 7,
     "metadata": {},
     "output_type": "execute_result"
    }
   ],
   "source": [
    "df = explode_column(df, 'data')\n",
    "df['data'] = df['data'][0:].str.lower()\n",
    "len(df)"
   ]
  },
  {
   "cell_type": "markdown",
   "metadata": {},
   "source": [
    "# Generate a Gensim Corpus and Dictionary (word-->id mapping)"
   ]
  },
  {
   "cell_type": "code",
   "execution_count": 8,
   "metadata": {},
   "outputs": [],
   "source": [
    "no_below = 5 # Word must appear at least 5 different docs\n",
    "no_above  = 0.75 # Word must not appear in at least float percent of docs\n",
    "\n",
    "corpus = df['data'].tolist()\n",
    "split_corpus = [abstract.split(' ') for abstract in corpus]\n",
    "dct = Dictionary(split_corpus)\n",
    "dct.filter_extremes(no_below=no_below, no_above=no_above)"
   ]
  },
  {
   "cell_type": "markdown",
   "metadata": {},
   "source": [
    "# Words to ID "
   ]
  },
  {
   "cell_type": "code",
   "execution_count": 9,
   "metadata": {},
   "outputs": [
    {
     "data": {
      "text/plain": [
       "7507"
      ]
     },
     "execution_count": 9,
     "metadata": {},
     "output_type": "execute_result"
    }
   ],
   "source": [
    "n_words = len(dct.iteritems())\n",
    "n_words"
   ]
  },
  {
   "cell_type": "code",
   "execution_count": 13,
   "metadata": {},
   "outputs": [],
   "source": [
    "max_len = 150\n",
    "\n",
    "def split_id(x):\n",
    "    x = x.split(' ')\n",
    "    x = dct.doc2idx(x)\n",
    "    return x\n",
    "\n",
    "df['data_id'] = df['data'][0:].map(split_id)\n",
    "df['data_trunc'] = df['data_id'].map(lambda x: np.array(x[0:max_len]).clip(0,100000))\n"
   ]
  },
  {
   "cell_type": "code",
   "execution_count": 14,
   "metadata": {},
   "outputs": [],
   "source": [
    "n_outputs = len(y_cols)\n",
    "X = df['data_trunc'].as_matrix()\n",
    "y = df[y_cols]"
   ]
  },
  {
   "cell_type": "code",
   "execution_count": 15,
   "metadata": {},
   "outputs": [
    {
     "data": {
      "text/html": [
       "<div>\n",
       "<style>\n",
       "    .dataframe thead tr:only-child th {\n",
       "        text-align: right;\n",
       "    }\n",
       "\n",
       "    .dataframe thead th {\n",
       "        text-align: left;\n",
       "    }\n",
       "\n",
       "    .dataframe tbody tr th {\n",
       "        vertical-align: top;\n",
       "    }\n",
       "</style>\n",
       "<table border=\"1\" class=\"dataframe\">\n",
       "  <thead>\n",
       "    <tr style=\"text-align: right;\">\n",
       "      <th></th>\n",
       "      <th>label</th>\n",
       "      <th>ceramic</th>\n",
       "      <th>polymer</th>\n",
       "      <th>semiconductor</th>\n",
       "      <th>metal</th>\n",
       "      <th>organometallic</th>\n",
       "      <th>experiment</th>\n",
       "      <th>simulation</th>\n",
       "      <th>data</th>\n",
       "      <th>data_id</th>\n",
       "      <th>data_trunc</th>\n",
       "    </tr>\n",
       "  </thead>\n",
       "  <tbody>\n",
       "    <tr>\n",
       "      <th>0</th>\n",
       "      <td>(ceramic, experiment, material)</td>\n",
       "      <td>1</td>\n",
       "      <td>0</td>\n",
       "      <td>0</td>\n",
       "      <td>0</td>\n",
       "      <td>0</td>\n",
       "      <td>1</td>\n",
       "      <td>0</td>\n",
       "      <td>zno-based scintillation ceramics for applicati...</td>\n",
       "      <td>[-1, 52, 14, 27, 6, -1, -1, -1, -1, 31, 10, 33...</td>\n",
       "      <td>[0, 52, 14, 27, 6, 0, 0, 0, 0, 31, 10, 33, 0, ...</td>\n",
       "    </tr>\n",
       "    <tr>\n",
       "      <th>0</th>\n",
       "      <td>(ceramic, experiment, material)</td>\n",
       "      <td>1</td>\n",
       "      <td>0</td>\n",
       "      <td>0</td>\n",
       "      <td>0</td>\n",
       "      <td>0</td>\n",
       "      <td>1</td>\n",
       "      <td>0</td>\n",
       "      <td>the no{\\nu}a experiment will construct a detec...</td>\n",
       "      <td>[-1, -1, 102, 154, 87, -1, 91, 127, 27, 97, 11...</td>\n",
       "      <td>[0, 0, 102, 154, 87, 0, 91, 127, 27, 97, 119, ...</td>\n",
       "    </tr>\n",
       "    <tr>\n",
       "      <th>0</th>\n",
       "      <td>(ceramic, experiment, material)</td>\n",
       "      <td>1</td>\n",
       "      <td>0</td>\n",
       "      <td>0</td>\n",
       "      <td>0</td>\n",
       "      <td>0</td>\n",
       "      <td>1</td>\n",
       "      <td>0</td>\n",
       "      <td>a three-dimensional lattice of the josephson j...</td>\n",
       "      <td>[-1, 197, 178, -1, -1, 176, 177, -1, -1, 173, ...</td>\n",
       "      <td>[0, 197, 178, 0, 0, 176, 177, 0, 0, 173, 0, 0,...</td>\n",
       "    </tr>\n",
       "    <tr>\n",
       "      <th>0</th>\n",
       "      <td>(ceramic, experiment, material)</td>\n",
       "      <td>1</td>\n",
       "      <td>0</td>\n",
       "      <td>0</td>\n",
       "      <td>0</td>\n",
       "      <td>0</td>\n",
       "      <td>1</td>\n",
       "      <td>0</td>\n",
       "      <td>the experiment with weighing pzt-piezoelectric...</td>\n",
       "      <td>[-1, 102, -1, -1, -1, 204, 213, 146, 160, -1, ...</td>\n",
       "      <td>[0, 102, 0, 0, 0, 204, 213, 146, 160, 0, 214, ...</td>\n",
       "    </tr>\n",
       "    <tr>\n",
       "      <th>0</th>\n",
       "      <td>(ceramic, experiment, material)</td>\n",
       "      <td>1</td>\n",
       "      <td>0</td>\n",
       "      <td>0</td>\n",
       "      <td>0</td>\n",
       "      <td>0</td>\n",
       "      <td>1</td>\n",
       "      <td>0</td>\n",
       "      <td>ceramics zno:zn of 20mm diameter and 1.6mm thi...</td>\n",
       "      <td>[14, -1, -1, -1, 243, -1, -1, 265, -1, 4, 44, ...</td>\n",
       "      <td>[14, 0, 0, 0, 243, 0, 0, 265, 0, 4, 44, 61, 14...</td>\n",
       "    </tr>\n",
       "  </tbody>\n",
       "</table>\n",
       "</div>"
      ],
      "text/plain": [
       "                             label  ceramic  polymer  semiconductor  metal  \\\n",
       "0  (ceramic, experiment, material)        1        0              0      0   \n",
       "0  (ceramic, experiment, material)        1        0              0      0   \n",
       "0  (ceramic, experiment, material)        1        0              0      0   \n",
       "0  (ceramic, experiment, material)        1        0              0      0   \n",
       "0  (ceramic, experiment, material)        1        0              0      0   \n",
       "\n",
       "   organometallic  experiment  simulation  \\\n",
       "0               0           1           0   \n",
       "0               0           1           0   \n",
       "0               0           1           0   \n",
       "0               0           1           0   \n",
       "0               0           1           0   \n",
       "\n",
       "                                                data  \\\n",
       "0  zno-based scintillation ceramics for applicati...   \n",
       "0  the no{\\nu}a experiment will construct a detec...   \n",
       "0  a three-dimensional lattice of the josephson j...   \n",
       "0  the experiment with weighing pzt-piezoelectric...   \n",
       "0  ceramics zno:zn of 20mm diameter and 1.6mm thi...   \n",
       "\n",
       "                                             data_id  \\\n",
       "0  [-1, 52, 14, 27, 6, -1, -1, -1, -1, 31, 10, 33...   \n",
       "0  [-1, -1, 102, 154, 87, -1, 91, 127, 27, 97, 11...   \n",
       "0  [-1, 197, 178, -1, -1, 176, 177, -1, -1, 173, ...   \n",
       "0  [-1, 102, -1, -1, -1, 204, 213, 146, 160, -1, ...   \n",
       "0  [14, -1, -1, -1, 243, -1, -1, 265, -1, 4, 44, ...   \n",
       "\n",
       "                                          data_trunc  \n",
       "0  [0, 52, 14, 27, 6, 0, 0, 0, 0, 31, 10, 33, 0, ...  \n",
       "0  [0, 0, 102, 154, 87, 0, 91, 127, 27, 97, 119, ...  \n",
       "0  [0, 197, 178, 0, 0, 176, 177, 0, 0, 173, 0, 0,...  \n",
       "0  [0, 102, 0, 0, 0, 204, 213, 146, 160, 0, 214, ...  \n",
       "0  [14, 0, 0, 0, 243, 0, 0, 265, 0, 4, 44, 61, 14...  "
      ]
     },
     "execution_count": 15,
     "metadata": {},
     "output_type": "execute_result"
    }
   ],
   "source": [
    "df.head()"
   ]
  },
  {
   "cell_type": "code",
   "execution_count": 16,
   "metadata": {},
   "outputs": [
    {
     "name": "stderr",
     "output_type": "stream",
     "text": [
      "Using TensorFlow backend.\n"
     ]
    }
   ],
   "source": [
    "from keras.preprocessing import sequence\n",
    "\n",
    "X = sequence.pad_sequences(X, maxlen=max_len)"
   ]
  },
  {
   "cell_type": "code",
   "execution_count": 17,
   "metadata": {},
   "outputs": [
    {
     "data": {
      "text/plain": [
       "(3770, 150)"
      ]
     },
     "execution_count": 17,
     "metadata": {},
     "output_type": "execute_result"
    }
   ],
   "source": [
    "X.shape"
   ]
  },
  {
   "cell_type": "code",
   "execution_count": 18,
   "metadata": {},
   "outputs": [
    {
     "data": {
      "text/plain": [
       "(3770, 7)"
      ]
     },
     "execution_count": 18,
     "metadata": {},
     "output_type": "execute_result"
    }
   ],
   "source": [
    "y.shape"
   ]
  },
  {
   "cell_type": "code",
   "execution_count": 19,
   "metadata": {},
   "outputs": [],
   "source": [
    "# LSTM for sequence classification in the IMDB dataset\n",
    "import numpy\n",
    "from keras.datasets import imdb\n",
    "from keras.models import Sequential\n",
    "from keras.layers import Dense\n",
    "from keras.layers import LSTM, Convolution1D, Flatten, Dropout\n",
    "from keras.layers.embeddings import Embedding\n",
    "from keras.preprocessing import sequence\n",
    "\n",
    "from keras import metrics"
   ]
  },
  {
   "cell_type": "code",
   "execution_count": 20,
   "metadata": {},
   "outputs": [],
   "source": [
    "# Using embedding from Keras\n",
    "embedding_length = 100\n",
    "model = Sequential()\n",
    "model.add(Embedding(n_words, embedding_length, input_length=max_len))\n",
    "\n",
    "# Convolutional model (3x conv, flatten, 2x dense)\n",
    "model.add(Convolution1D(63, 3, padding='same'))\n",
    "model.add(Convolution1D(32, 3, padding='same'))\n",
    "model.add(Convolution1D(16, 3, padding='same'))\n",
    "model.add(Flatten())\n",
    "model.add(Dropout(0.15))\n",
    "model.add(Dense(180,activation='relu'))\n",
    "model.add(Dropout(0.15))\n",
    "model.add(Dense(n_outputs,activation='sigmoid'))\n",
    "\n",
    "model.compile(loss='binary_crossentropy', \n",
    "              optimizer='adam', \n",
    "              metrics=[metrics.categorical_accuracy])"
   ]
  },
  {
   "cell_type": "markdown",
   "metadata": {},
   "source": [
    "# Tests to make sure our data are shaped correctly"
   ]
  },
  {
   "cell_type": "code",
   "execution_count": 21,
   "metadata": {},
   "outputs": [],
   "source": [
    "assert(X.shape[1] == max_len)\n",
    "assert(y.shape[1] == n_outputs)\n",
    "assert(X.shape[0] == y.shape[0])"
   ]
  },
  {
   "cell_type": "code",
   "execution_count": 22,
   "metadata": {},
   "outputs": [
    {
     "name": "stdout",
     "output_type": "stream",
     "text": [
      "Epoch 1/30\n",
      "3770/3770 [==============================] - 6s - loss: 0.4883 - categorical_accuracy: 0.2130     \n",
      "Epoch 2/30\n",
      "3770/3770 [==============================] - 5s - loss: 0.3633 - categorical_accuracy: 0.3687     \n",
      "Epoch 3/30\n",
      "3770/3770 [==============================] - 5s - loss: 0.2138 - categorical_accuracy: 0.4671     \n",
      "Epoch 4/30\n",
      "3770/3770 [==============================] - 5s - loss: 0.1487 - categorical_accuracy: 0.4942     \n",
      "Epoch 5/30\n",
      "3770/3770 [==============================] - 5s - loss: 0.1219 - categorical_accuracy: 0.5058     \n",
      "Epoch 6/30\n",
      "3770/3770 [==============================] - 6s - loss: 0.1083 - categorical_accuracy: 0.5085     \n",
      "Epoch 7/30\n",
      "3770/3770 [==============================] - 5s - loss: 0.1016 - categorical_accuracy: 0.5374     \n",
      "Epoch 8/30\n",
      "3770/3770 [==============================] - 6s - loss: 0.0934 - categorical_accuracy: 0.5072     \n",
      "Epoch 9/30\n",
      "3770/3770 [==============================] - 6s - loss: 0.0890 - categorical_accuracy: 0.5167     \n",
      "Epoch 10/30\n",
      "3770/3770 [==============================] - 5s - loss: 0.0811 - categorical_accuracy: 0.5244     \n",
      "Epoch 11/30\n",
      "3770/3770 [==============================] - 6s - loss: 0.0775 - categorical_accuracy: 0.4870     \n",
      "Epoch 12/30\n",
      "3770/3770 [==============================] - 6s - loss: 0.0747 - categorical_accuracy: 0.4870     \n",
      "Epoch 13/30\n",
      "3770/3770 [==============================] - 8s - loss: 0.0714 - categorical_accuracy: 0.4745     \n",
      "Epoch 14/30\n",
      "3770/3770 [==============================] - 7s - loss: 0.0682 - categorical_accuracy: 0.4679     \n",
      "Epoch 15/30\n",
      "3770/3770 [==============================] - 6s - loss: 0.0664 - categorical_accuracy: 0.4905     \n",
      "Epoch 16/30\n",
      "3770/3770 [==============================] - 6s - loss: 0.0625 - categorical_accuracy: 0.4316     \n",
      "Epoch 17/30\n",
      "3770/3770 [==============================] - 5s - loss: 0.0616 - categorical_accuracy: 0.4517     \n",
      "Epoch 18/30\n",
      "3770/3770 [==============================] - 5s - loss: 0.0602 - categorical_accuracy: 0.4435     \n",
      "Epoch 19/30\n",
      "3770/3770 [==============================] - 5s - loss: 0.0591 - categorical_accuracy: 0.4101     \n",
      "Epoch 20/30\n",
      "3770/3770 [==============================] - 7s - loss: 0.0577 - categorical_accuracy: 0.4125     \n",
      "Epoch 21/30\n",
      "3770/3770 [==============================] - 6s - loss: 0.0568 - categorical_accuracy: 0.4196     \n",
      "Epoch 22/30\n",
      "3770/3770 [==============================] - 5s - loss: 0.0561 - categorical_accuracy: 0.4069     \n",
      "Epoch 23/30\n",
      "3770/3770 [==============================] - 6s - loss: 0.0555 - categorical_accuracy: 0.3907     \n",
      "Epoch 24/30\n",
      "3770/3770 [==============================] - 6s - loss: 0.0554 - categorical_accuracy: 0.4095     \n",
      "Epoch 25/30\n",
      "3770/3770 [==============================] - 7s - loss: 0.0550 - categorical_accuracy: 0.3626     \n",
      "Epoch 26/30\n",
      "3770/3770 [==============================] - 5s - loss: 0.0550 - categorical_accuracy: 0.3881     \n",
      "Epoch 27/30\n",
      "3770/3770 [==============================] - 6s - loss: 0.0546 - categorical_accuracy: 0.3849     \n",
      "Epoch 28/30\n",
      "3770/3770 [==============================] - 6s - loss: 0.0546 - categorical_accuracy: 0.3905     \n",
      "Epoch 29/30\n",
      "3770/3770 [==============================] - 6s - loss: 0.0539 - categorical_accuracy: 0.3782     \n",
      "Epoch 30/30\n",
      "3770/3770 [==============================] - 6s - loss: 0.0538 - categorical_accuracy: 0.3947     \n"
     ]
    },
    {
     "data": {
      "text/plain": [
       "<keras.callbacks.History at 0x1226b9630>"
      ]
     },
     "execution_count": 22,
     "metadata": {},
     "output_type": "execute_result"
    }
   ],
   "source": [
    "model.fit(X, y.as_matrix(), epochs=30, batch_size=64)"
   ]
  },
  {
   "cell_type": "markdown",
   "metadata": {},
   "source": [
    "# Spot check Predictions"
   ]
  },
  {
   "cell_type": "code",
   "execution_count": 45,
   "metadata": {},
   "outputs": [
    {
     "name": "stdout",
     "output_type": "stream",
     "text": [
      "we investigate, by molecular dynamics simulation, the generic features associated with the dynamic compaction of metallic nano-foams at very high strain rates. a universal feature of the dynamic compaction process is revealed as composed of two distinct regions: a growing crushed region and a leading fluid precursor. the crushed region has a density lower than the solid material and gradually grows thicker in time by {\\it snowplowing}. the trapped fluid precursor is created by ablation and/or melting of the foam filaments and the subsequent confinement of the hot atoms in a region comparable to the filament length of the foam. quantitative characterization of nano-foam compaction dynamics is presented and the compacted form equation-of-state is discussed. we argue that high-energy foam crushing is not a shock phenomenon even though both share the snowplow feature.\n",
      "\n",
      "=== Pseudo Label ===\n",
      "ceramic           0\n",
      "polymer           0\n",
      "semiconductor     0\n",
      "metal             1\n",
      "organometallic    0\n",
      "experiment        0\n",
      "simulation        1\n",
      "Name: 7, dtype: object\n",
      "\n",
      "=== Prediction ===\n",
      "ceramic == 0.0000\n",
      "polymer == 0.0006\n",
      "semiconductor == 0.0000\n",
      "metal == 0.9997\n",
      "organometallic == 0.0000\n",
      "experiment == 0.0001\n",
      "simulation == 1.0000\n"
     ]
    }
   ],
   "source": [
    "index = 3000\n",
    "\n",
    "print(df.iloc[index]['data'])\n",
    "print()\n",
    "print(\"=== Pseudo Label ===\")\n",
    "print(df.iloc[index][y_cols])\n",
    "print()\n",
    "print(\"=== Prediction ===\")\n",
    "pred = zip(model.predict(X[index:index+1])[0], y_cols)\n",
    "for item in pred:\n",
    "    print(\"{} == {:0.4f}\".format(item[1],item[0]))"
   ]
  },
  {
   "cell_type": "markdown",
   "metadata": {},
   "source": [
    "# Try on Abstracts outside Training Set"
   ]
  },
  {
   "cell_type": "code",
   "execution_count": 36,
   "metadata": {},
   "outputs": [],
   "source": [
    "def process_input(text, max_len=max_len):\n",
    "    from keras.preprocessing import sequence\n",
    "    x = text.split(' ')\n",
    "    x = dct.doc2idx(x)\n",
    "    x = x[0:max_len]\n",
    "    x = sequence.pad_sequences([x], maxlen=max_len)\n",
    "    return x"
   ]
  },
  {
   "cell_type": "code",
   "execution_count": 37,
   "metadata": {},
   "outputs": [],
   "source": [
    "test = \"\"\"\n",
    "A polymer melt is simulated at finite temperature by the Monte-Carlo method. We use a coarse-grained model for the polymer system, the bond-fluctuation model. Static properties of the melt can be obtained by generating configurations not with single-monomer-dynamics which moves individual monomers locally, but reptation-dynamics which allows collective motion of the chains. This algorithm can produce equilibrated configurations much faster. It is demonstrated that static properties do not differ from those obtained by single-monomer-dynamics. Values of the radius of gyration, the mean square bond length and similar quantities for different temperatures and densities are presented.\n",
    "\"\"\""
   ]
  },
  {
   "cell_type": "code",
   "execution_count": 38,
   "metadata": {},
   "outputs": [
    {
     "name": "stdout",
     "output_type": "stream",
     "text": [
      "=== Prediction ===\n",
      "ceramic == 0.0009\n",
      "polymer == 0.9984\n",
      "semiconductor == 0.0000\n",
      "metal == 0.0000\n",
      "organometallic == 0.0000\n",
      "experiment == 0.0053\n",
      "simulation == 0.9954\n"
     ]
    }
   ],
   "source": [
    "print(\"=== Prediction ===\")\n",
    "X_p = process_input(test)\n",
    "X_p = X_p.clip(0,30000)\n",
    "pred = zip(model.predict(X_p)[0], y_cols)\n",
    "for item in pred:\n",
    "    print(\"{} == {:0.4f}\".format(item[1],item[0]))\n"
   ]
  },
  {
   "cell_type": "code",
   "execution_count": null,
   "metadata": {},
   "outputs": [],
   "source": []
  }
 ],
 "metadata": {
  "kernelspec": {
   "display_name": "Python 3",
   "language": "python",
   "name": "python3"
  }
 },
 "nbformat": 4,
 "nbformat_minor": 2
}
