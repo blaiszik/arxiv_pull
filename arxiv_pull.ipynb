{
 "cells": [
  {
   "cell_type": "code",
   "execution_count": 71,
   "metadata": {},
   "outputs": [],
   "source": [
    "from itertools import product\n",
    "import time\n",
    "\n",
    "import pandas as pd\n",
    "import arxiv"
   ]
  },
  {
   "cell_type": "markdown",
   "metadata": {},
   "source": [
    "# Define Classes to Be Aggregated"
   ]
  },
  {
   "cell_type": "code",
   "execution_count": 94,
   "metadata": {},
   "outputs": [
    {
     "data": {
      "text/plain": [
       "[('ceramic', 'experiment', 'material'),\n",
       " ('ceramic', 'simulation', 'material'),\n",
       " ('polymer', 'experiment', 'material'),\n",
       " ('polymer', 'simulation', 'material'),\n",
       " ('semiconductor', 'experiment', 'material'),\n",
       " ('semiconductor', 'simulation', 'material'),\n",
       " ('metal', 'experiment', 'material'),\n",
       " ('metal', 'simulation', 'material'),\n",
       " ('organometallic', 'experiment', 'material'),\n",
       " ('organometallic', 'simulation', 'material')]"
      ]
     },
     "execution_count": 94,
     "metadata": {},
     "output_type": "execute_result"
    }
   ],
   "source": [
    "material_classes = ['ceramic','polymer','semiconductor','metal','organometallic']\n",
    "experiment_classes = ['experiment','simulation']\n",
    "material_base = [\"material\"]\n",
    "all_classes = material_classes + experiment_classes\n",
    "class_combinations = list(product(material_classes, experiment_classes, material_base))\n",
    "class_combinations"
   ]
  },
  {
   "cell_type": "markdown",
   "metadata": {},
   "source": [
    "# Define Helper Functions"
   ]
  },
  {
   "cell_type": "code",
   "execution_count": 84,
   "metadata": {},
   "outputs": [],
   "source": [
    "def clean_results(r):\n",
    "    return r.get('summary').replace('\\n', ' ')\n",
    "\n",
    "def get_arxiv_results(query, start, max_results):\n",
    "    res = arxiv.query(' AND '.join(c), \n",
    "                      start = start, \n",
    "                      max_results = max_results)\n",
    "    return [clean_results(r) for r in res]"
   ]
  },
  {
   "cell_type": "markdown",
   "metadata": {},
   "source": [
    "# Fetch Results from ArXiv"
   ]
  },
  {
   "cell_type": "code",
   "execution_count": 85,
   "metadata": {},
   "outputs": [
    {
     "name": "stdout",
     "output_type": "stream",
     "text": [
      "('ceramic', 'experiment', 'material')\n",
      "('ceramic', 'simulation', 'material')\n",
      "('polymer', 'experiment', 'material')\n",
      "('polymer', 'simulation', 'material')\n",
      "('semiconductor', 'experiment', 'material')\n",
      "('semiconductor', 'simulation', 'material')\n",
      "('metal', 'experiment', 'material')\n",
      "('metal', 'simulation', 'material')\n",
      "('organometallic', 'experiment', 'material')\n",
      "('organometallic', 'simulation', 'material')\n"
     ]
    }
   ],
   "source": [
    "total_results = 100\n",
    "max_results = 20\n",
    "query_wait = 0.1\n",
    "\n",
    "results = []\n",
    "\n",
    "for c in all_classes:\n",
    "    print(c)\n",
    "    n_results = 0\n",
    "    tmp_array = []\n",
    "    while n_results < total_results:\n",
    "        r = get_arxiv_results(' AND '.join(c), \n",
    "                          start = n_results, \n",
    "                          max_results = max_results)\n",
    "        if len(r) == 0: break\n",
    "        n_results = n_results + len(r)\n",
    "        tmp_array = tmp_array + r\n",
    "        time.sleep(query_wait)\n",
    "    results.append({\"label\":c, \"data\":tmp_array})"
   ]
  },
  {
   "cell_type": "markdown",
   "metadata": {},
   "source": [
    "# Build DataFrame and Output to File"
   ]
  },
  {
   "cell_type": "code",
   "execution_count": 122,
   "metadata": {},
   "outputs": [
    {
     "ename": "ValueError",
     "evalue": "labels ['labels'] not contained in axis",
     "output_type": "error",
     "traceback": [
      "\u001b[0;31m---------------------------------------------------------------------------\u001b[0m",
      "\u001b[0;31mValueError\u001b[0m                                Traceback (most recent call last)",
      "\u001b[0;32m<ipython-input-122-bcd8cff69a1f>\u001b[0m in \u001b[0;36m<module>\u001b[0;34m()\u001b[0m\n\u001b[1;32m      5\u001b[0m \u001b[0;32mfor\u001b[0m \u001b[0mc\u001b[0m \u001b[0;32min\u001b[0m \u001b[0mall_classes\u001b[0m\u001b[0;34m:\u001b[0m\u001b[0;34m\u001b[0m\u001b[0m\n\u001b[1;32m      6\u001b[0m     \u001b[0mdf\u001b[0m\u001b[0;34m[\u001b[0m\u001b[0mc\u001b[0m\u001b[0;34m]\u001b[0m \u001b[0;34m=\u001b[0m \u001b[0mdf\u001b[0m\u001b[0;34m[\u001b[0m\u001b[0;34m'label'\u001b[0m\u001b[0;34m]\u001b[0m\u001b[0;34m.\u001b[0m\u001b[0mapply\u001b[0m\u001b[0;34m(\u001b[0m\u001b[0;32mlambda\u001b[0m \u001b[0mx\u001b[0m\u001b[0;34m:\u001b[0m \u001b[0;36m1\u001b[0m \u001b[0;32mif\u001b[0m \u001b[0mc\u001b[0m \u001b[0;32min\u001b[0m \u001b[0mx\u001b[0m \u001b[0;32melse\u001b[0m \u001b[0;36m0\u001b[0m\u001b[0;34m)\u001b[0m\u001b[0;34m\u001b[0m\u001b[0m\n\u001b[0;32m----> 7\u001b[0;31m \u001b[0mdf\u001b[0m\u001b[0;34m.\u001b[0m\u001b[0mdrop\u001b[0m\u001b[0;34m(\u001b[0m\u001b[0;34m'labels'\u001b[0m\u001b[0;34m,\u001b[0m \u001b[0maxis\u001b[0m\u001b[0;34m=\u001b[0m\u001b[0;36m0\u001b[0m\u001b[0;34m)\u001b[0m\u001b[0;34m\u001b[0m\u001b[0m\n\u001b[0m\u001b[1;32m      8\u001b[0m \u001b[0;34m\u001b[0m\u001b[0m\n\u001b[1;32m      9\u001b[0m \u001b[0mdf\u001b[0m\u001b[0;34m.\u001b[0m\u001b[0mto_pickle\u001b[0m\u001b[0;34m(\u001b[0m\u001b[0moutput_file\u001b[0m\u001b[0;34m)\u001b[0m\u001b[0;34m\u001b[0m\u001b[0m\n",
      "\u001b[0;32m/anaconda/lib/python3.6/site-packages/pandas/core/generic.py\u001b[0m in \u001b[0;36mdrop\u001b[0;34m(self, labels, axis, level, inplace, errors)\u001b[0m\n\u001b[1;32m   2159\u001b[0m                 \u001b[0mnew_axis\u001b[0m \u001b[0;34m=\u001b[0m \u001b[0maxis\u001b[0m\u001b[0;34m.\u001b[0m\u001b[0mdrop\u001b[0m\u001b[0;34m(\u001b[0m\u001b[0mlabels\u001b[0m\u001b[0;34m,\u001b[0m \u001b[0mlevel\u001b[0m\u001b[0;34m=\u001b[0m\u001b[0mlevel\u001b[0m\u001b[0;34m,\u001b[0m \u001b[0merrors\u001b[0m\u001b[0;34m=\u001b[0m\u001b[0merrors\u001b[0m\u001b[0;34m)\u001b[0m\u001b[0;34m\u001b[0m\u001b[0m\n\u001b[1;32m   2160\u001b[0m             \u001b[0;32melse\u001b[0m\u001b[0;34m:\u001b[0m\u001b[0;34m\u001b[0m\u001b[0m\n\u001b[0;32m-> 2161\u001b[0;31m                 \u001b[0mnew_axis\u001b[0m \u001b[0;34m=\u001b[0m \u001b[0maxis\u001b[0m\u001b[0;34m.\u001b[0m\u001b[0mdrop\u001b[0m\u001b[0;34m(\u001b[0m\u001b[0mlabels\u001b[0m\u001b[0;34m,\u001b[0m \u001b[0merrors\u001b[0m\u001b[0;34m=\u001b[0m\u001b[0merrors\u001b[0m\u001b[0;34m)\u001b[0m\u001b[0;34m\u001b[0m\u001b[0m\n\u001b[0m\u001b[1;32m   2162\u001b[0m             \u001b[0mdropped\u001b[0m \u001b[0;34m=\u001b[0m \u001b[0mself\u001b[0m\u001b[0;34m.\u001b[0m\u001b[0mreindex\u001b[0m\u001b[0;34m(\u001b[0m\u001b[0;34m**\u001b[0m\u001b[0;34m{\u001b[0m\u001b[0maxis_name\u001b[0m\u001b[0;34m:\u001b[0m \u001b[0mnew_axis\u001b[0m\u001b[0;34m}\u001b[0m\u001b[0;34m)\u001b[0m\u001b[0;34m\u001b[0m\u001b[0m\n\u001b[1;32m   2163\u001b[0m             \u001b[0;32mtry\u001b[0m\u001b[0;34m:\u001b[0m\u001b[0;34m\u001b[0m\u001b[0m\n",
      "\u001b[0;32m/anaconda/lib/python3.6/site-packages/pandas/core/indexes/base.py\u001b[0m in \u001b[0;36mdrop\u001b[0;34m(self, labels, errors)\u001b[0m\n\u001b[1;32m   3622\u001b[0m             \u001b[0;32mif\u001b[0m \u001b[0merrors\u001b[0m \u001b[0;34m!=\u001b[0m \u001b[0;34m'ignore'\u001b[0m\u001b[0;34m:\u001b[0m\u001b[0;34m\u001b[0m\u001b[0m\n\u001b[1;32m   3623\u001b[0m                 raise ValueError('labels %s not contained in axis' %\n\u001b[0;32m-> 3624\u001b[0;31m                                  labels[mask])\n\u001b[0m\u001b[1;32m   3625\u001b[0m             \u001b[0mindexer\u001b[0m \u001b[0;34m=\u001b[0m \u001b[0mindexer\u001b[0m\u001b[0;34m[\u001b[0m\u001b[0;34m~\u001b[0m\u001b[0mmask\u001b[0m\u001b[0;34m]\u001b[0m\u001b[0;34m\u001b[0m\u001b[0m\n\u001b[1;32m   3626\u001b[0m         \u001b[0;32mreturn\u001b[0m \u001b[0mself\u001b[0m\u001b[0;34m.\u001b[0m\u001b[0mdelete\u001b[0m\u001b[0;34m(\u001b[0m\u001b[0mindexer\u001b[0m\u001b[0;34m)\u001b[0m\u001b[0;34m\u001b[0m\u001b[0m\n",
      "\u001b[0;31mValueError\u001b[0m: labels ['labels'] not contained in axis"
     ]
    }
   ],
   "source": [
    "output_file = \"./data/arxiv_results.pkl\"\n",
    "df = pd.DataFrame(results)\n",
    "\n",
    "# One-hot encoded columns\n",
    "for c in all_classes:\n",
    "    df[c] = df['label'].apply(lambda x: 1 if c in x else 0)\n",
    "df.drop('labels', axis=0)\n",
    "\n",
    "df.to_pickle(output_file)\n",
    "df"
   ]
  },
  {
   "cell_type": "markdown",
   "metadata": {},
   "source": [
    "# Add One-hot Encoded Columns"
   ]
  },
  {
   "cell_type": "code",
   "execution_count": 120,
   "metadata": {},
   "outputs": [],
   "source": [
    "\n",
    "df"
   ]
  },
  {
   "cell_type": "markdown",
   "metadata": {},
   "source": [
    "# Load Previous Results"
   ]
  },
  {
   "cell_type": "code",
   "execution_count": 90,
   "metadata": {},
   "outputs": [
    {
     "data": {
      "text/html": [
       "<div>\n",
       "<style>\n",
       "    .dataframe thead tr:only-child th {\n",
       "        text-align: right;\n",
       "    }\n",
       "\n",
       "    .dataframe thead th {\n",
       "        text-align: left;\n",
       "    }\n",
       "\n",
       "    .dataframe tbody tr th {\n",
       "        vertical-align: top;\n",
       "    }\n",
       "</style>\n",
       "<table border=\"1\" class=\"dataframe\">\n",
       "  <thead>\n",
       "    <tr style=\"text-align: right;\">\n",
       "      <th></th>\n",
       "      <th>data</th>\n",
       "      <th>label</th>\n",
       "    </tr>\n",
       "  </thead>\n",
       "  <tbody>\n",
       "    <tr>\n",
       "      <th>0</th>\n",
       "      <td>[ZnO-based scintillation ceramics for applicat...</td>\n",
       "      <td>(ceramic, experiment, material)</td>\n",
       "    </tr>\n",
       "    <tr>\n",
       "      <th>1</th>\n",
       "      <td>[A three-dimensional lattice of the Josephson ...</td>\n",
       "      <td>(ceramic, simulation, material)</td>\n",
       "    </tr>\n",
       "    <tr>\n",
       "      <th>2</th>\n",
       "      <td>[Single polymer dynamics offers a powerful app...</td>\n",
       "      <td>(polymer, experiment, material)</td>\n",
       "    </tr>\n",
       "    <tr>\n",
       "      <th>3</th>\n",
       "      <td>[Polymer chains in colloid-polymer mixtures ca...</td>\n",
       "      <td>(polymer, simulation, material)</td>\n",
       "    </tr>\n",
       "    <tr>\n",
       "      <th>4</th>\n",
       "      <td>[The utilisation of semiconductor materials as...</td>\n",
       "      <td>(semiconductor, experiment, material)</td>\n",
       "    </tr>\n",
       "    <tr>\n",
       "      <th>5</th>\n",
       "      <td>[We propose a method to realize diluted magnet...</td>\n",
       "      <td>(semiconductor, simulation, material)</td>\n",
       "    </tr>\n",
       "    <tr>\n",
       "      <th>6</th>\n",
       "      <td>[Half-metallic ferromagnetism (HMFM) occurs ra...</td>\n",
       "      <td>(metal, experiment, material)</td>\n",
       "    </tr>\n",
       "    <tr>\n",
       "      <th>7</th>\n",
       "      <td>[The room temperature structure of aluminum, c...</td>\n",
       "      <td>(metal, simulation, material)</td>\n",
       "    </tr>\n",
       "    <tr>\n",
       "      <th>8</th>\n",
       "      <td>[We present a detailed analysis of the results...</td>\n",
       "      <td>(organometallic, experiment, material)</td>\n",
       "    </tr>\n",
       "    <tr>\n",
       "      <th>9</th>\n",
       "      <td>[The interaction of trimethyl methylcyclopenta...</td>\n",
       "      <td>(organometallic, simulation, material)</td>\n",
       "    </tr>\n",
       "  </tbody>\n",
       "</table>\n",
       "</div>"
      ],
      "text/plain": [
       "                                                data  \\\n",
       "0  [ZnO-based scintillation ceramics for applicat...   \n",
       "1  [A three-dimensional lattice of the Josephson ...   \n",
       "2  [Single polymer dynamics offers a powerful app...   \n",
       "3  [Polymer chains in colloid-polymer mixtures ca...   \n",
       "4  [The utilisation of semiconductor materials as...   \n",
       "5  [We propose a method to realize diluted magnet...   \n",
       "6  [Half-metallic ferromagnetism (HMFM) occurs ra...   \n",
       "7  [The room temperature structure of aluminum, c...   \n",
       "8  [We present a detailed analysis of the results...   \n",
       "9  [The interaction of trimethyl methylcyclopenta...   \n",
       "\n",
       "                                    label  \n",
       "0         (ceramic, experiment, material)  \n",
       "1         (ceramic, simulation, material)  \n",
       "2         (polymer, experiment, material)  \n",
       "3         (polymer, simulation, material)  \n",
       "4   (semiconductor, experiment, material)  \n",
       "5   (semiconductor, simulation, material)  \n",
       "6           (metal, experiment, material)  \n",
       "7           (metal, simulation, material)  \n",
       "8  (organometallic, experiment, material)  \n",
       "9  (organometallic, simulation, material)  "
      ]
     },
     "execution_count": 90,
     "metadata": {},
     "output_type": "execute_result"
    }
   ],
   "source": [
    "input_file = \"./data/arxiv_results.pkl\"\n",
    "df = pd.read_pickle(input_file)\n",
    "df"
   ]
  },
  {
   "cell_type": "code",
   "execution_count": null,
   "metadata": {},
   "outputs": [],
   "source": []
  }
 ],
 "metadata": {
  "kernelspec": {
   "display_name": "Python 3",
   "language": "python",
   "name": "python3"
  },
  "language_info": {
   "codemirror_mode": {
    "name": "ipython",
    "version": 3
   },
   "file_extension": ".py",
   "mimetype": "text/x-python",
   "name": "python",
   "nbconvert_exporter": "python",
   "pygments_lexer": "ipython3",
   "version": "3.6.1"
  }
 },
 "nbformat": 4,
 "nbformat_minor": 2
}
